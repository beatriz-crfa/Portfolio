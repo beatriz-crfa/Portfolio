{
 "cells": [
  {
   "cell_type": "markdown",
   "metadata": {},
   "source": [
    "# Pi estimation with Monte carlo method"
   ]
  },
  {
   "cell_type": "markdown",
   "metadata": {},
   "source": [
    "## Import libraries"
   ]
  },
  {
   "cell_type": "code",
   "execution_count": null,
   "metadata": {},
   "outputs": [],
   "source": [
    "# Import libraries\n",
    "import numpy as np\n",
    "import matplotlib.pyplot as plt\n",
    "\n",
    "%matplotlib widget"
   ]
  },
  {
   "cell_type": "markdown",
   "metadata": {},
   "source": [
    "## Quick summary:\n"
   ]
  },
  {
   "cell_type": "markdown",
   "metadata": {},
   "source": [
    "This project uses the Monte Carlo method to estimate pi and visualizes how the number of iterations affects the estimation error. This method uses the ratio between the area of a square of side 2r (Area_s = 4r^2) and of a circle inscribed in that square (Area_c = pi*r^2).\n",
    "\n",
    "The law of large numbers for proportions states that if you repeat an experiment independently (with no repetition) a large number of times, the observed proportion of times a specific event occurs will get closer and closer to the true probability of that event, i.e. by sampling a large number of points inside the square, the proportion of those points that are also inside the circle will tend to Area_c/Area_s=pi/4.\n",
    "\n",
    "Hence, pi can be estimated by 4*#samples_inside_circle/#total_samples.\n",
    "\n",
    "The samples were obtained using a uniforme distribution as each point inside the square as equal probability of being picked."
   ]
  },
  {
   "cell_type": "markdown",
   "metadata": {},
   "source": [
    "## Calculations"
   ]
  },
  {
   "cell_type": "code",
   "execution_count": null,
   "metadata": {},
   "outputs": [],
   "source": [
    "# Set variables\n",
    "r = 1.0  # square radius\n",
    "total_iter = range(100, 1000000, 500)  # total number of iterations\n",
    "pi_est = []  # estimated value\n",
    "pi_error = []  # estimation error\n",
    "pi_rel_error = []  # relative estimation error\n",
    "\n",
    "# Randomly generate point coordinates [0.0; r[\n",
    "for i in total_iter:\n",
    "    # Uniform distribution has all points inside\n",
    "    random_x = np.random.uniform(0.0, r, i)\n",
    "    # The square have equal probability to be picked\n",
    "    random_y = np.random.uniform(0.0, r, i)\n",
    "\n",
    "    # Analyse results\n",
    "    # Check total number of points inside the circle\n",
    "    count = np.sum(random_x ** 2 + random_y ** 2 < r)\n",
    "\n",
    "    # Estimate pi\n",
    "    pi_est.append(4 * count / i)\n",
    "    pi_error.append(np.abs(4 * count / i - np.pi))\n",
    "    pi_rel_error.append(100 * np.abs(4 * count / i - np.pi) / np.pi)"
   ]
  },
  {
   "cell_type": "markdown",
   "metadata": {},
   "source": [
    "## Plot results"
   ]
  },
  {
   "cell_type": "code",
   "execution_count": null,
   "metadata": {},
   "outputs": [],
   "source": [
    "# Plot sample results\n",
    "fig = plt.figure()\n",
    "ax = fig.add_subplot(1, 1, 1)\n",
    "ax.plot(total_iter, pi_est, color='b')\n",
    "ax.axhline(np.pi, 0, total_iter[-1], linestyle='--', color='r')\n",
    "\n",
    "ax.set_xlabel('Total number of iterations')\n",
    "ax.set_ylabel('Pi estimate')\n",
    "ax.set_title('Pi estimate vs number of iterations')\n",
    "ax.legend([\"pi estimation\", \"theoretical pi\"])\n",
    "ax.grid()"
   ]
  },
  {
   "cell_type": "code",
   "execution_count": null,
   "metadata": {},
   "outputs": [],
   "source": [
    "# Plot absolute error result\n",
    "fig = plt.figure()\n",
    "ax = fig.add_subplot(1, 1, 1)\n",
    "ax.plot(total_iter, pi_error, color='b')\n",
    "\n",
    "ax.set_xlabel('Total number of iterations')\n",
    "ax.set_ylabel('absolute error')\n",
    "ax.set_ylim((0, 0.02))\n",
    "ax.set_title('absolute error vs number of iterations')\n",
    "ax.legend(\"absolute error\")\n",
    "ax.grid()"
   ]
  },
  {
   "cell_type": "code",
   "execution_count": null,
   "metadata": {},
   "outputs": [],
   "source": [
    "# Plot relative error results\n",
    "fig = plt.figure()\n",
    "ax = fig.add_subplot(1, 1, 1)\n",
    "ax.plot(total_iter, pi_rel_error, color='b')\n",
    "\n",
    "ax.set_xlabel('Total number of iterations')\n",
    "ax.set_ylabel('relative error (%)')\n",
    "ax.set_ylim((0, 1.2))\n",
    "ax.set_title('relative error vs number of iterations')\n",
    "ax.legend('relative error')\n",
    "ax.grid()"
   ]
  }
 ],
 "metadata": {
  "kernelspec": {
   "display_name": "Python 3",
   "language": "python",
   "name": "python3"
  },
  "language_info": {
   "codemirror_mode": {
    "name": "ipython",
    "version": 3
   },
   "file_extension": ".py",
   "mimetype": "text/x-python",
   "name": "python",
   "nbconvert_exporter": "python",
   "pygments_lexer": "ipython3",
   "version": "3.12.4"
  }
 },
 "nbformat": 4,
 "nbformat_minor": 2
}
