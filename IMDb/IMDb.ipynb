{
 "cells": [
  {
   "cell_type": "markdown",
   "metadata": {},
   "source": [
    "# IMDb"
   ]
  },
  {
   "cell_type": "code",
   "execution_count": null,
   "metadata": {},
   "outputs": [],
   "source": [
    "import pandas as pd\n",
    "from scipy import stats\n",
    "import pingouin as pg\n",
    "import numpy as np\n",
    "import statistics as stat\n",
    "from operator import itemgetter\n",
    "%matplotlib widget\n",
    "import matplotlib.pyplot as plt"
   ]
  },
  {
   "cell_type": "code",
   "execution_count": null,
   "metadata": {},
   "outputs": [],
   "source": [
    "data_basics = pd.read_csv (\"title_basics.tsv\", sep = '\\t')\n",
    "data_ratings = pd.read_csv (\"title_ratings.tsv\", sep = '\\t')"
   ]
  },
  {
   "cell_type": "code",
   "execution_count": null,
   "metadata": {},
   "outputs": [],
   "source": [
    "data_basics.shape"
   ]
  },
  {
   "cell_type": "code",
   "execution_count": null,
   "metadata": {},
   "outputs": [],
   "source": [
    "#not all elements in basics have corresponding ratings\n",
    "# filter rows based on list values\n",
    "mask = data_basics['tconst'].isin(data_ratings.tconst)\n",
    "data_basics = data_basics[mask]\n"
   ]
  },
  {
   "cell_type": "code",
   "execution_count": null,
   "metadata": {},
   "outputs": [],
   "source": [
    "#select only the movies with ratings\n",
    "mask = data_basics['titleType'] == 'movie'\n",
    "movies = data_basics[mask]\n",
    "\n",
    "#select only the ratings of movies with ratings\n",
    "mask = data_ratings['tconst'].isin(movies.tconst)\n",
    "movie_ratings = data_ratings[mask]"
   ]
  },
  {
   "cell_type": "code",
   "execution_count": null,
   "metadata": {},
   "outputs": [],
   "source": [
    "#remove the ones without start date\n",
    "mask = movies['startYear'] != \"\\\\N\"\n",
    "movies = movies[mask]\n",
    "\n",
    "#remove them from ratings too\n",
    "mask = data_ratings['tconst'].isin(movies.tconst)\n",
    "movie_ratings = movie_ratings[mask]"
   ]
  },
  {
   "cell_type": "code",
   "execution_count": null,
   "metadata": {},
   "outputs": [],
   "source": [
    "first_year = 2000\n",
    "last_year = 2020\n",
    "\n",
    "print(\"The data spans between \" + str(np.min(movies['startYear'])) + \" and \" + str(np.max(pd.to_numeric(movies['startYear']))) + \".\")\n",
    "print(\"We are interested in the data between \" + str(first_year) + \" and \" + str(last_year) + \".\")"
   ]
  },
  {
   "cell_type": "code",
   "execution_count": null,
   "metadata": {},
   "outputs": [],
   "source": [
    "#remove the ones without start date\n",
    "mask_min = movies['startYear'].apply(pd.to_numeric) >= first_year \n",
    "movies = movies[mask_min]\n",
    "mask_max = movies['startYear'].apply(pd.to_numeric) <= last_year\n",
    "movies = movies[mask_max]\n",
    "\n",
    "\n",
    "#remove them from ratings too\n",
    "mask = movie_ratings['tconst'].isin(movies.tconst)\n",
    "movie_ratings = movie_ratings[mask]\n",
    "\n",
    "print(\"Selected data between \" + str(np.min(movies['startYear'])) + \" and \" + str(np.max(pd.to_numeric(movies['startYear']))) + \".\")"
   ]
  },
  {
   "cell_type": "code",
   "execution_count": null,
   "metadata": {},
   "outputs": [],
   "source": [
    "min_votes = 1000\n",
    "mask = movie_ratings['numVotes'].apply(pd.to_numeric) >= min_votes \n",
    "movie_ratings = movie_ratings[mask]\n",
    "\n",
    "mask = movies['tconst'].isin(movie_ratings.tconst)\n",
    "movies = movies[mask]"
   ]
  },
  {
   "cell_type": "code",
   "execution_count": null,
   "metadata": {},
   "outputs": [],
   "source": [
    "#remove adult movies\n",
    "mask = movies['isAdult'].apply(pd.to_numeric) == 0 \n",
    "movies = movies[mask]\n",
    "\n",
    "mask = movie_ratings['tconst'].isin(movies.tconst)\n",
    "movie_ratings = movie_ratings[mask]"
   ]
  },
  {
   "cell_type": "code",
   "execution_count": null,
   "metadata": {},
   "outputs": [],
   "source": [
    "#plot relative error results\n",
    "fig = plt.figure()\n",
    "ax = fig.add_subplot(1, 1, 1)\n",
    "ax.hist(movie_ratings['averageRating'], color='b')\n",
    "    \n",
    "ax.set_xlabel('Average rating')\n",
    "ax.set_ylabel('Number of ocurences')\n",
    "ax.set_title('Average rating histogram')\n",
    "ax.grid()"
   ]
  },
  {
   "cell_type": "code",
   "execution_count": null,
   "metadata": {},
   "outputs": [],
   "source": [
    "#Select genres of interest\n",
    "genres = ['Comedy', 'Drama', 'Fantasy', 'Horror', 'Romance', 'Action', 'Thriller', 'Sci-Fi', 'Documentary']\n",
    "multi_genre = 1 # 0 drop multi-genre, 1 keep multi genre without repetition\n",
    "\n",
    "match multi_genre:\n",
    "    case 0:\n",
    "        movies_split = {gen: movies[movies['genres'] == gen] for gen in genres}\n",
    "        movie_ratings_split = {gen: movie_ratings[movie_ratings['tconst'].isin(movies_split[gen]['tconst'])] for gen in genres}\n",
    "    \n",
    "    case 1:\n",
    "        movies_split = {gen: movies[movies['genres'].apply(lambda x: x.split(',')[0]) == gen] for gen in genres}\n",
    "        movie_ratings_split = {gen: movie_ratings[movie_ratings['tconst'].isin(movies_split[gen]['tconst'])] for gen in genres}"
   ]
  },
  {
   "cell_type": "code",
   "execution_count": null,
   "metadata": {},
   "outputs": [],
   "source": [
    "#plot relative error results\n",
    "fig, ax = plt.subplots(int(np.ceil(len(genres)/3)), 3, figsize=(10,7))\n",
    "ax = ax.ravel()\n",
    "fig.suptitle('Average rating for different genres', fontsize=15)\n",
    "for axes, i in zip(ax, range(0, len(genres))):\n",
    "    axes.hist(movie_ratings_split[genres[i]]['averageRating'], color='b')\n",
    "    axes.legend([genres[i]], loc=\"upper left\", fontsize=7)\n",
    "    axes.grid()\n",
    "fig.text(0.5, 0.04, 'Average rating', ha='center')\n",
    "fig.text(0.04, 0.5, 'Number of ocurences', va='center', rotation='vertical')\n"
   ]
  },
  {
   "cell_type": "code",
   "execution_count": null,
   "metadata": {},
   "outputs": [],
   "source": [
    "#Organize data to plot in a single graph\n",
    "ratings_genre = [movie_ratings_split[genre]['averageRating'] for genre in genres]\n",
    "\n",
    "#plot relative error results\n",
    "fig, ax = plt.subplots(figsize=(10,7))\n",
    "\n",
    "fig.suptitle('Average rating for different genres', fontsize=15)\n",
    "ax.boxplot(ratings_genre)\n",
    "ax.grid()\n",
    "\n",
    "ax.set_xticklabels(genres, rotation=45, ha='right', fontsize=10)\n",
    "fig.text(0.5, 0.04, 'Genres', ha='center')\n",
    "fig.text(0.04, 0.5, 'Average rating', va='center', rotation='vertical')\n",
    "plt.tight_layout()"
   ]
  },
  {
   "cell_type": "code",
   "execution_count": null,
   "metadata": {},
   "outputs": [],
   "source": [
    "outliers_info = {}\n",
    "outliers = {} \n",
    "\n",
    "# calculate percentage of outliers\n",
    "for genre in genres:\n",
    "    data = movie_ratings_split[genre]['averageRating']\n",
    "    q1 = np.percentile(data, 25) #first quartile\n",
    "    q3 = np.percentile(data, 75) # third quartlie\n",
    "    iqr = q3 - q1 #interquartile range\n",
    "    \n",
    "    #Tukey, J. W. (1977). Exploratory Data Analysis. \n",
    "    #Outlier limit defined by matplotlib\n",
    "    lower_bound = q1 - 1.5 * iqr\n",
    "    upper_bound = q3 + 1.5 * iqr\n",
    "    outliers[genre] = data[(data < lower_bound) | (data > upper_bound)] \n",
    "    \n",
    "    #percentage of the samples that are considered \"outliers\"\n",
    "    count = len(outliers[genre])\n",
    "    percentage = count / len(data) * 100\n",
    "    outliers_info[genre] = f\"{count} outliers ({percentage:.2f}%)\"\n",
    "\n",
    "# Print outlier info per genre\n",
    "for genre, info in outliers_info.items():\n",
    "    print(f\"{genre}: {info}\")"
   ]
  },
  {
   "cell_type": "code",
   "execution_count": null,
   "metadata": {},
   "outputs": [],
   "source": [
    "#evaluate outliers\n",
    "\n",
    "#check for wrong type\n",
    "[print(outlier) for genre in genres for outlier in outliers[genre] if not isinstance(outlier, float)]\n",
    "#check non-positive values\n",
    "[print(outlier) for genre in genres for outlier in outliers[genre] if outlier <= 0.0]\n",
    "#check values bigger than 10\n",
    "[print(outlier) for genre in genres for outlier in outliers[genre] if outlier > 10.0]"
   ]
  },
  {
   "cell_type": "code",
   "execution_count": null,
   "metadata": {},
   "outputs": [],
   "source": [
    "parameters = {} #genres, []\n",
    "\n",
    "#Quick sample parameters check\n",
    "#THINK OF THE CLEANER WAY OF DOING THIS\n",
    "for genre in genres:\n",
    "    parameters[genre] = {\n",
    "        \"mean\" : (stat.mean(movie_ratings_split[genre]['averageRating'])),  \n",
    "        \"mode\" : ((stat.mode(movie_ratings_split[genre]['averageRating']))), \n",
    "        \"median\" : (stat.median(movie_ratings_split[genre]['averageRating'])), \n",
    "        \"std\" : (stat.stdev(movie_ratings_split[genre]['averageRating'])),\n",
    "        \"var\" : (stat.stdev(movie_ratings_split[genre]['averageRating']))**2}\n",
    "    \n",
    "vars = list(map(itemgetter('var'), parameters.values()))\n",
    "\n",
    "print(parameters)\n",
    "\n",
    "print(max(vars)/min(vars))"
   ]
  },
  {
   "cell_type": "markdown",
   "metadata": {},
   "source": [
    "Possible courses of action:\n",
    "-Resample with the same sample size + regular anova: pros: balanced design + simple cons: heteroscedaticity, maybe small sample size could impact normality\n",
    "-Regular anova (accept ratio as okay): pros: quick and easy, higher sample sizes (?) cons:  heteroscedaticity, unbalanced design\n",
    "-Welch ANOVA or Brown-Forsythe (with post-hoc analysis): pros: more robust to unbalanced sample sizes and heteroscedasticity cons: higher story points"
   ]
  },
  {
   "cell_type": "code",
   "execution_count": null,
   "metadata": {},
   "outputs": [],
   "source": [
    "samples = np.array([movie_ratings_split[genre]['averageRating'].values for genre in genres], dtype=object)\n",
    "\n",
    "#Since the sample ratio is higher than 2, regular ANOVA is not suitable\n",
    "# Applied Linear Statistical Models by Kutner et all\n",
    "#Welch’s ANOVA test with different sample sizes\n",
    "f_welch, p_welch = stats.f_oneway(*samples, axis=0, equal_var=False)\n",
    "print(f_welch)\n",
    "print(p_welch)"
   ]
  },
  {
   "cell_type": "code",
   "execution_count": null,
   "metadata": {},
   "outputs": [],
   "source": [
    "movie_ratings_split_flat= pd.DataFrame(\n",
    "    [(genre, rating) \n",
    "     for genre in genres \n",
    "     for rating in movie_ratings_split[genre]['averageRating']],\n",
    "    columns=['genre', 'averageRating']\n",
    ")"
   ]
  },
  {
   "cell_type": "code",
   "execution_count": null,
   "metadata": {},
   "outputs": [],
   "source": [
    "#Post Hoc analysis\n",
    "#Which groups differ?\n",
    "#Games-Howell test\n",
    "\n",
    "Games_Howell = pg.pairwise_gameshowell(data=movie_ratings_split_flat, dv='averageRating', between='genre' )\n",
    "\n",
    "print(Games_Howell)"
   ]
  }
 ],
 "metadata": {
  "kernelspec": {
   "display_name": "Python 3",
   "language": "python",
   "name": "python3"
  },
  "language_info": {
   "codemirror_mode": {
    "name": "ipython",
    "version": 3
   },
   "file_extension": ".py",
   "mimetype": "text/x-python",
   "name": "python",
   "nbconvert_exporter": "python",
   "pygments_lexer": "ipython3",
   "version": "3.12.4"
  }
 },
 "nbformat": 4,
 "nbformat_minor": 2
}
