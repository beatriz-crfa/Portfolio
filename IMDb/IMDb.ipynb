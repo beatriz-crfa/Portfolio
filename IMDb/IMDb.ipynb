{
 "cells": [
  {
   "cell_type": "markdown",
   "metadata": {},
   "source": [
    "# IMDb"
   ]
  },
  {
   "cell_type": "code",
   "execution_count": null,
   "metadata": {},
   "outputs": [],
   "source": [
    "import pandas as pd\n",
    "import numpy as np\n",
    "%matplotlib widget\n",
    "import matplotlib.pyplot as plt"
   ]
  },
  {
   "cell_type": "code",
   "execution_count": null,
   "metadata": {},
   "outputs": [],
   "source": [
    "data_basics = pd.read_csv (\"title_basics.tsv\", sep = '\\t')\n",
    "data_ratings = pd.read_csv (\"title_ratings.tsv\", sep = '\\t')"
   ]
  },
  {
   "cell_type": "code",
   "execution_count": null,
   "metadata": {},
   "outputs": [],
   "source": [
    "data_basics.shape"
   ]
  },
  {
   "cell_type": "code",
   "execution_count": null,
   "metadata": {},
   "outputs": [],
   "source": [
    "#not all elements in basics have corresponding ratings\n",
    "# filter rows based on list values\n",
    "mask = data_basics['tconst'].isin(data_ratings.tconst)\n",
    "data_basics = data_basics[mask]\n"
   ]
  },
  {
   "cell_type": "code",
   "execution_count": null,
   "metadata": {},
   "outputs": [],
   "source": [
    "#select only the movies with ratings\n",
    "mask = data_basics['titleType'] == 'movie'\n",
    "movies = data_basics[mask]\n",
    "\n",
    "#select only the ratings of movies with ratings\n",
    "mask = data_ratings['tconst'].isin(movies.tconst)\n",
    "movie_ratings = data_ratings[mask]"
   ]
  },
  {
   "cell_type": "code",
   "execution_count": null,
   "metadata": {},
   "outputs": [],
   "source": [
    "#remove the ones without start date\n",
    "mask = movies['startYear'] != \"\\\\N\"\n",
    "movies = movies[mask]\n",
    "\n",
    "#remove them from ratings too\n",
    "mask = data_ratings['tconst'].isin(movies.tconst)\n",
    "movie_ratings = movie_ratings[mask]"
   ]
  },
  {
   "cell_type": "code",
   "execution_count": null,
   "metadata": {},
   "outputs": [],
   "source": [
    "first_year = 2000\n",
    "last_year = 2020\n",
    "\n",
    "print(\"The data spans between \" + str(np.min(movies['startYear'])) + \" and \" + str(np.max(pd.to_numeric(movies['startYear']))) + \".\")\n",
    "print(\"We are interested in the data between \" + str(first_year) + \" and \" + str(last_year) + \".\")"
   ]
  },
  {
   "cell_type": "code",
   "execution_count": null,
   "metadata": {},
   "outputs": [],
   "source": [
    "#remove the ones without start date\n",
    "mask_min = movies['startYear'].apply(pd.to_numeric) >= first_year \n",
    "movies = movies[mask_min]\n",
    "mask_max = movies['startYear'].apply(pd.to_numeric) <= last_year\n",
    "movies = movies[mask_max]\n",
    "\n",
    "\n",
    "#remove them from ratings too\n",
    "mask = movie_ratings['tconst'].isin(movies.tconst)\n",
    "movie_ratings = movie_ratings[mask]\n",
    "\n",
    "print(\"Selected data between \" + str(np.min(movies['startYear'])) + \" and \" + str(np.max(pd.to_numeric(movies['startYear']))) + \".\")"
   ]
  },
  {
   "cell_type": "code",
   "execution_count": null,
   "metadata": {},
   "outputs": [],
   "source": [
    "min_votes = 1000\n",
    "mask = movie_ratings['numVotes'].apply(pd.to_numeric) >= min_votes \n",
    "movie_ratings = movie_ratings[mask]\n",
    "\n",
    "mask = movies['tconst'].isin(movie_ratings.tconst)\n",
    "movies = movies[mask]"
   ]
  },
  {
   "cell_type": "code",
   "execution_count": null,
   "metadata": {},
   "outputs": [],
   "source": [
    "#remove adult movies\n",
    "mask = movies['isAdult'].apply(pd.to_numeric) == 0 \n",
    "movies = movies[mask]\n",
    "\n",
    "mask = movie_ratings['tconst'].isin(movies.tconst)\n",
    "movie_ratings = movie_ratings[mask]"
   ]
  },
  {
   "cell_type": "code",
   "execution_count": null,
   "metadata": {},
   "outputs": [],
   "source": [
    "movies"
   ]
  },
  {
   "cell_type": "code",
   "execution_count": null,
   "metadata": {},
   "outputs": [],
   "source": [
    "#plot relative error results\n",
    "fig = plt.figure()\n",
    "ax = fig.add_subplot(1, 1, 1)\n",
    "ax.hist(movie_ratings['averageRating'], color='b')\n",
    "    \n",
    "ax.set_xlabel('Average rating')\n",
    "ax.set_ylabel('Number of ocurences')\n",
    "ax.set_title('Average rating histogram')\n",
    "ax.grid()"
   ]
  },
  {
   "cell_type": "code",
   "execution_count": null,
   "metadata": {},
   "outputs": [],
   "source": [
    "#Select genres of interest\n",
    "genres = ['Comedy', 'Drama', 'Fantasy', 'Horror', 'Romance', 'Action', 'Thriller', 'Sci-Fi', 'Documentary']\n",
    "multi_genre = 0 # 0 drop multi-genre, 1 keep multi genre without repetition\n",
    "\n",
    "match multi_genre:\n",
    "    case 0:\n",
    "        movies_split = {gen: movies[movies['genres'] == gen] for gen in genres}\n",
    "        movie_ratings_split = {gen: movie_ratings[movie_ratings['tconst'].isin(movies_split[gen]['tconst'])] for gen in genres}\n",
    "    \n",
    "    case 1:\n",
    "        print(\"Build later\")"
   ]
  },
  {
   "cell_type": "code",
   "execution_count": null,
   "metadata": {},
   "outputs": [],
   "source": [
    "type(genres)"
   ]
  },
  {
   "cell_type": "code",
   "execution_count": null,
   "metadata": {},
   "outputs": [],
   "source": [
    "#plot relative error results\n",
    "fig, ax = plt.subplots(int(np.ceil(len(genres)/3)), 3, figsize=(10,7))\n",
    "ax = ax.ravel()\n",
    "fig.suptitle('Average rating for different genres', fontsize=15)\n",
    "for axes, i in zip(ax, range(0, len(genres))):\n",
    "    axes.hist(movie_ratings_split[genres[i]]['averageRating'], color='b')\n",
    "    axes.legend([genres[i]], loc=\"upper left\", fontsize=7)\n",
    "    axes.grid()\n",
    "fig.text(0.5, 0.04, 'Average rating', ha='center')\n",
    "fig.text(0.04, 0.5, 'Number of ocurences', va='center', rotation='vertical')\n"
   ]
  }
 ],
 "metadata": {
  "kernelspec": {
   "display_name": "Python 3",
   "language": "python",
   "name": "python3"
  },
  "language_info": {
   "codemirror_mode": {
    "name": "ipython",
    "version": 3
   },
   "file_extension": ".py",
   "mimetype": "text/x-python",
   "name": "python",
   "nbconvert_exporter": "python",
   "pygments_lexer": "ipython3",
   "version": "3.12.4"
  }
 },
 "nbformat": 4,
 "nbformat_minor": 2
}
